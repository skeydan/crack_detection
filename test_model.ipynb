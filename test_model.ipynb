{
 "cells": [
  {
   "cell_type": "code",
   "execution_count": 1,
   "metadata": {},
   "outputs": [
    {
     "name": "stderr",
     "output_type": "stream",
     "text": [
      "Using TensorFlow backend.\n"
     ]
    }
   ],
   "source": [
    "from keras.models import load_model\n",
    "from keras.preprocessing.image import img_to_array, load_img\n",
    "import os\n",
    "import numpy as np"
   ]
  },
  {
   "cell_type": "code",
   "execution_count": 2,
   "metadata": {},
   "outputs": [
    {
     "name": "stdout",
     "output_type": "stream",
     "text": [
      "_________________________________________________________________\n",
      "Layer (type)                 Output Shape              Param #   \n",
      "=================================================================\n",
      "conv2d_1 (Conv2D)            (None, 98, 98, 64)        640       \n",
      "_________________________________________________________________\n",
      "activation_1 (Activation)    (None, 98, 98, 64)        0         \n",
      "_________________________________________________________________\n",
      "max_pooling2d_1 (MaxPooling2 (None, 49, 49, 64)        0         \n",
      "_________________________________________________________________\n",
      "conv2d_2 (Conv2D)            (None, 47, 47, 64)        36928     \n",
      "_________________________________________________________________\n",
      "activation_2 (Activation)    (None, 47, 47, 64)        0         \n",
      "_________________________________________________________________\n",
      "max_pooling2d_2 (MaxPooling2 (None, 23, 23, 64)        0         \n",
      "_________________________________________________________________\n",
      "conv2d_3 (Conv2D)            (None, 21, 21, 64)        36928     \n",
      "_________________________________________________________________\n",
      "activation_3 (Activation)    (None, 21, 21, 64)        0         \n",
      "_________________________________________________________________\n",
      "max_pooling2d_3 (MaxPooling2 (None, 10, 10, 64)        0         \n",
      "_________________________________________________________________\n",
      "conv2d_4 (Conv2D)            (None, 8, 8, 64)          36928     \n",
      "_________________________________________________________________\n",
      "activation_4 (Activation)    (None, 8, 8, 64)          0         \n",
      "_________________________________________________________________\n",
      "max_pooling2d_4 (MaxPooling2 (None, 4, 4, 64)          0         \n",
      "_________________________________________________________________\n",
      "flatten_1 (Flatten)          (None, 1024)              0         \n",
      "_________________________________________________________________\n",
      "dense_1 (Dense)              (None, 64)                65600     \n",
      "_________________________________________________________________\n",
      "activation_5 (Activation)    (None, 64)                0         \n",
      "_________________________________________________________________\n",
      "dropout_1 (Dropout)          (None, 64)                0         \n",
      "_________________________________________________________________\n",
      "dense_2 (Dense)              (None, 1)                 65        \n",
      "_________________________________________________________________\n",
      "activation_6 (Activation)    (None, 1)                 0         \n",
      "=================================================================\n",
      "Total params: 177,089\n",
      "Trainable params: 177,089\n",
      "Non-trainable params: 0\n",
      "_________________________________________________________________\n"
     ]
    }
   ],
   "source": [
    "test_model = load_model('model_33_model.h5')\n",
    "test_model.summary()"
   ]
  },
  {
   "cell_type": "code",
   "execution_count": 5,
   "metadata": {},
   "outputs": [
    {
     "name": "stdout",
     "output_type": "stream",
     "text": [
      "Diagnosis: no crack (confidence: 0.93)\n"
     ]
    },
    {
     "data": {
      "image/png": "[encoded data removed]",
      "text/plain": [
       "<PIL.Image.Image image mode=L size=100x100 at 0x7FBE385C1CC0>"
      ]
     },
     "execution_count": 5,
     "metadata": {},
     "output_type": "execute_result"
    }
   ],
   "source": [
    "img = load_img('data/test/nocrack/SampleA2_Detail_E_dog_101_206.png', grayscale=True) \n",
    "candidate = np.expand_dims(img_to_array(img)/255, axis=0)\n",
    "pred, prob = test_model.predict_classes(candidate, verbose=0), test_model.predict_proba(candidate, batch_size=1, verbose=0)\n",
    "class_ = \"crack\" if pred[0,0] == 0 else \"no crack\"\n",
    "conf = 1 - prob[0,0] if pred[0,0] == 0 else prob[0,0]\n",
    "print('Diagnosis: {} (confidence: {:.2f})'.format(class_,conf))\n",
    "img"
   ]
  },
  {
   "cell_type": "code",
   "execution_count": 6,
   "metadata": {},
   "outputs": [
    {
     "name": "stdout",
     "output_type": "stream",
     "text": [
      "Diagnosis: crack (confidence: 1.00)\n"
     ]
    },
    {
     "data": {
      "image/png": "[encoded data removed]",
      "text/plain": [
       "<PIL.Image.Image image mode=L size=100x100 at 0x7FBE037A5128>"
      ]
     },
     "execution_count": 6,
     "metadata": {},
     "output_type": "execute_result"
    }
   ],
   "source": [
    "img = load_img('data/test/crack/SampleA2_Detail_E_dog_381_166.png', grayscale=True) \n",
    "candidate = np.expand_dims(img_to_array(img)/255, axis=0)\n",
    "pred, prob = test_model.predict_classes(candidate, verbose=0), test_model.predict_proba(candidate, batch_size=1, verbose=0)\n",
    "class_ = \"crack\" if pred[0,0] == 0 else \"no crack\"\n",
    "conf = 1 - prob[0,0] if pred[0,0] == 0 else prob[0,0]\n",
    "print('Diagnosis: {} (confidence: {:.2f})'.format(class_,conf))\n",
    "img"
   ]
  },
  {
   "cell_type": "code",
   "execution_count": 7,
   "metadata": {
    "collapsed": true
   },
   "outputs": [],
   "source": [
    "def score_img(img_path):\n",
    "    img = load_img(img_path, grayscale=True) \n",
    "    candidate = np.expand_dims(img_to_array(img)/255, axis=0)\n",
    "    pred = test_model.predict_classes(candidate, verbose=0)\n",
    "    return pred[0,0]"
   ]
  },
  {
   "cell_type": "code",
   "execution_count": 8,
   "metadata": {},
   "outputs": [
    {
     "name": "stdout",
     "output_type": "stream",
     "text": [
      "Found crack in 764 of 837 images\n"
     ]
    }
   ],
   "source": [
    "cracks_total = 837\n",
    "num_cracks_found = 0\n",
    "for imgfile in os.listdir('data/test/crack'):\n",
    "    score = score_img('data/test/crack/' + imgfile)\n",
    "    if score == 0: num_cracks_found = num_cracks_found + 1\n",
    "print('Found crack in {} of {} images'.format(num_cracks_found, cracks_total))"
   ]
  },
  {
   "cell_type": "code",
   "execution_count": 9,
   "metadata": {},
   "outputs": [
    {
     "name": "stdout",
     "output_type": "stream",
     "text": [
      "Correctly said \"no crack\" in 696 of 772 images\n"
     ]
    }
   ],
   "source": [
    "no_cracks_total = 772\n",
    "num_no_cracks_found = 0\n",
    "for imgfile in os.listdir('data/test/nocrack'):\n",
    "    score = score_img('data/test/nocrack/' + imgfile)\n",
    "    if score == 1: num_no_cracks_found = num_no_cracks_found + 1\n",
    "print('Correctly said \"no crack\" in {} of {} images'.format(num_no_cracks_found, no_cracks_total))"
   ]
  },
  {
   "cell_type": "code",
   "execution_count": 10,
   "metadata": {},
   "outputs": [
    {
     "name": "stdout",
     "output_type": "stream",
     "text": [
      "Accuracy: 0.907, sensitivity: 0.913, precision: 0.910\n"
     ]
    }
   ],
   "source": [
    "true_positives = num_cracks_found\n",
    "false_negatives = cracks_total - true_positives\n",
    "true_negatives = num_no_cracks_found\n",
    "false_positives = no_cracks_total - true_negatives\n",
    "\n",
    "accuracy = (true_positives + true_negatives) / (cracks_total + no_cracks_total)\n",
    "sensitivity = true_positives / (true_positives + false_negatives)\n",
    "precision = true_positives / (true_positives + false_positives)\n",
    "\n",
    "print('Accuracy: {:.3f}, sensitivity: {:.3f}, precision: {:.3f}'.format(accuracy, sensitivity, precision))"
   ]
  }
 ],
 "metadata": {
  "kernelspec": {
   "display_name": "Python 3",
   "language": "python",
   "name": "python3"
  },
  "language_info": {
   "codemirror_mode": {
    "name": "ipython",
    "version": 3
   },
   "file_extension": ".py",
   "mimetype": "text/x-python",
   "name": "python",
   "nbconvert_exporter": "python",
   "pygments_lexer": "ipython3",
   "version": "3.5.3"
  }
 },
 "nbformat": 4,
 "nbformat_minor": 2
}
